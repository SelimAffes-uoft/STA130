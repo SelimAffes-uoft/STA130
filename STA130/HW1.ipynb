{
 "cells": [
  {
   "cell_type": "markdown",
   "id": "5b94bd47-7394-430c-8874-60ad4f42e3ff",
   "metadata": {},
   "source": [
    "<h1 style=\"color:red;\">Question I</h1>\n",
    "<p>The following cell contains code given to me by ChatGPT through <a link=\"https://chatgpt.com/share/6f7a59ee-fdf2-48d9-8d1a-2bb81ce0a7c3\" style=\"color:blue;\">this conversation.</a>\n",
    "<br/>\n",
    "It takes an online freely available database with missing entries and calculates how many entries are missing (per column and in the entire dataset), as well as the percentage of values missing per column.</p>"
   ]
  },
  {
   "cell_type": "code",
   "execution_count": 6,
   "id": "96ea50f7-9a9f-43b6-bb3d-3a9f4600af6c",
   "metadata": {},
   "outputs": [
    {
     "name": "stdout",
     "output_type": "stream",
     "text": [
      "Number of missing entries per column:\n",
      " PassengerId      0\n",
      "Survived         0\n",
      "Pclass           0\n",
      "Name             0\n",
      "Sex              0\n",
      "Age            177\n",
      "SibSp            0\n",
      "Parch            0\n",
      "Ticket           0\n",
      "Fare             0\n",
      "Cabin          687\n",
      "Embarked         2\n",
      "dtype: int64\n",
      "\n",
      "Total number of missing entries in the dataset: 866\n",
      "\n",
      "Percentage of missing entries per column:\n",
      " PassengerId     0.000000\n",
      "Survived        0.000000\n",
      "Pclass          0.000000\n",
      "Name            0.000000\n",
      "Sex             0.000000\n",
      "Age            19.865320\n",
      "SibSp           0.000000\n",
      "Parch           0.000000\n",
      "Ticket          0.000000\n",
      "Fare            0.000000\n",
      "Cabin          77.104377\n",
      "Embarked        0.224467\n",
      "dtype: float64\n"
     ]
    }
   ],
   "source": [
    "import pandas as pd\n",
    "\n",
    "# Load the Titanic dataset from an online source\n",
    "url = \"https://raw.githubusercontent.com/datasciencedojo/datasets/master/titanic.csv\"\n",
    "df = pd.read_csv(url)\n",
    "\n",
    "# Display the number of missing entries for each column\n",
    "missing_data = df.isnull().sum()\n",
    "\n",
    "# Print the total number of missing entries for each column\n",
    "print(\"Number of missing entries per column:\\n\", missing_data)\n",
    "\n",
    "# Optionally, you can calculate the total missing values in the entire dataset\n",
    "total_missing = df.isnull().sum().sum()\n",
    "print(f\"\\nTotal number of missing entries in the dataset: {total_missing}\")\n",
    "\n",
    "# Display the percentage of missing entries for each column\n",
    "missing_percentage = (df.isnull().sum() / len(df)) * 100\n",
    "print(\"\\nPercentage of missing entries per column:\\n\", missing_percentage)"
   ]
  },
  {
   "cell_type": "markdown",
   "id": "4f8c5c02-3621-45f3-84e3-b2f5b598b04a",
   "metadata": {},
   "source": [
    "<h1 style=\"color:red;\">Question II</h1>"
   ]
  },
  {
   "cell_type": "markdown",
   "id": "d54e4af3-1fe0-45f4-bee5-55fed775d155",
   "metadata": {},
   "source": [
    "The following code given to me by <a href=\"https://chatgpt.com/share/3b4c8538-eeee-4293-a20f-ada17ded30ac\" style=\"color:blue;\">ChatGPT</a> gives the number of rows and columns in a dataset using pandas"
   ]
  },
  {
   "cell_type": "code",
   "execution_count": null,
   "id": "7c17b9d9-8a16-478e-88f0-6f01908d36de",
   "metadata": {},
   "outputs": [],
   "source": [
    "import pandas as pd\n",
    "\n",
    "# Load the dataset\n",
    "url = \"https://raw.githubusercontent.com/datasciencedojo/datasets/master/titanic.csv\"\n",
    "df = pd.read_csv(url)\n",
    "\n",
    "# Get the shape of the dataframe (rows, columns)\n",
    "rows, columns = df.shape\n",
    "\n",
    "# Display the number of rows and columns\n",
    "print(f\"Number of rows: {rows}\")\n",
    "print(f\"Number of columns: {columns}\")"
   ]
  }
 ],
 "metadata": {
  "kernelspec": {
   "display_name": "Python 3 (ipykernel)",
   "language": "python",
   "name": "python3"
  },
  "language_info": {
   "codemirror_mode": {
    "name": "ipython",
    "version": 3
   },
   "file_extension": ".py",
   "mimetype": "text/x-python",
   "name": "python",
   "nbconvert_exporter": "python",
   "pygments_lexer": "ipython3",
   "version": "3.12.5"
  }
 },
 "nbformat": 4,
 "nbformat_minor": 5
}
