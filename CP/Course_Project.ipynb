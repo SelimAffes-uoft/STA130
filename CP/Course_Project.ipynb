{
 "cells": [
  {
   "cell_type": "markdown",
   "id": "8dc305ed-f571-482c-95e4-be053304cb47",
   "metadata": {},
   "source": [
    "The relationship between people living alone and the level of loneliness. \n",
    "\n",
    "I think helping others is a really fulfilling and important activity and wonder how it affects people's mental well being.\n",
    "\n",
    "A lot of people think that screen connect the population more but is that really true? The rise of social media addiction is often cited as accompanied by a rise in loneliness. I want to check whether or not the data backs that up. LIFESTYLE_time_use_balance_media (row 163) and loneliness with rows 134-139\n",
    "\n",
    "I will also try to see how these patterns vary or stay the same across different years and surveys."
   ]
  },
  {
   "cell_type": "markdown",
   "id": "e44dd580-7ccc-4d97-b751-a22e4b7fce3c",
   "metadata": {},
   "source": [
    "<h3 style=\"color:green;\">for the living situation/loneliness situation</h3>"
   ]
  },
  {
   "cell_type": "markdown",
   "id": "38b09d02-03d5-4720-aa6b-3e5e91b1c403",
   "metadata": {},
   "source": [
    "For this section, we can use the variables of Q41 (rows 120-127) and we can even extend this study to seeing the effects of living with animals on loneliness with the variables of Q42 (rows 128-133).\n",
    "The loneliness level is measured with Q17 (rows 87-89), more precisely row 87: LONELY_ucla_loneliness_scale_companionship\n",
    "\n",
    "\n",
    "Does living with someone decrease loneliness?\n",
    "Does living with an animal decrease loneliness? If so, more or less than living with humans?\n",
    "What about people who live with both?\n",
    "<br/>\n",
    "If so, we (meaning the government) could try promoting adopting animals and finding roommates (which would also help money-wise) or even moving back in with parents (as living with parents is already the norm in many cultures)\n",
    "\n",
    "It seems like the data isn't paired, in which case we can use two-sample bootstrapping and get a confidence interval of the mean loneliness level for both groups, to see if there is a statistically significant difference and how much of a difference there is.\n",
    "\n",
    "Concretely, for the simplest scenario: take the double bootstrapped confidence interval of:\n",
    "1. the mean loneliness level of people who answered 0 to Q41 and\n",
    "2. the mean loneliness level of people who answered another number to Q41.\n",
    "\n",
    "<h3>Hypothesis:</h3>\n",
    "\n",
    "I think that on average, people living with someone will feel less lonely (I do know that this is not true for ALL cases).\n",
    "<br/>The null hypothesis (which we want to disprove) would be\n",
    "H_0: People who live with someone have lower (or equal) mean loneliness levels than people who live alone.\n",
    "\n",
    "And the alternative hypothesis would be H_1: People who live with someone have higher mean loneliness levels than people who live alone.\n",
    "<br/><br/>\n",
    "As for animals, I think they help a lot with loneliness, sometimes more than people with their unconditional love and fluffy hugs and licks (and cats' tsundere behavior hahaha). \n",
    "On average however, I do think people feel less lonely living with people than animals."
   ]
  },
  {
   "cell_type": "markdown",
   "id": "cd29501b-3bdf-4296-b3e6-8304094d2665",
   "metadata": {},
   "source": [
    "<h3 style=\"color:green;\">Helping others</h3>"
   ]
  },
  {
   "cell_type": "markdown",
   "id": "c0a08d30-5bcc-40f8-b934-23abe9e850ec",
   "metadata": {},
   "source": [
    "For helping others, we will look at look at LIFESTYLE_time_use_balance_helping (line 168) and rows 76-77: CONNECTION_activities_community_p3m and CONNECTION_activities_helped_p3m\n",
    "\n",
    "We can compare this to general life satisfaction with row 44: WELLNESS_life_satisfaction\n",
    "\n",
    "Moreover, in the 2022 survey, we can look at rows 685-714 record the reasons for which people volunteer. \n",
    "We can concentrate on row 689: VOLUNTEERISM_volunteer_functions_inventory_feel_important \n",
    "<br/>and row 693: VOLUNTEERISM_volunteer_functions_inventory_less_lonely\n",
    "<br/>and row 703: VOLUNTEERISM_volunteer_functions_inventory_important_to_help\n",
    "<br/>and row 711: VOLUNTEERISM_volunteer_functions_inventory_feel_better\n",
    "\n",
    "as well as row 543: WELLNESS_subjective_happiness_scale_happy\n",
    "\n",
    "For visualization: \n",
    "<br>\n",
    "- We can compare life satisfaction with different catefories of LIFESTYLE_time_use_balance_helping using a bar chart or a box plot.\n",
    "- We can use a stacked bar chart to look at the percentage of participants that rated every volunteering reason as more or less important.\n",
    "- We could use a scatterplot with a fitted line (using regression) to look at WELLNESS_life_satisfaction and LIFESTYLE_time_use_balance_helping\n",
    "- We could also use a scatterplot with a fitted line (using regression) to look at CONNECTION_activities_(community or helped)_p3m relating to WELLNESS_life_satisfaction.\n",
    "\n",
    "\n",
    "\n",
    "<h3>Hypothesis</h3>\n",
    "\n",
    "I think that helping others and the community will make people feel better, more fulfilled and more socially connected on average.\n",
    "As a null hypothesis (which we want to provide evidence against), we can have\n",
    "<br/>H_0: Individuals who report spending 'just the right amount' of time helping others (LIFESTYLE_time_use_balance_helping) will, on average, report lower or equal levels of life satisfaction (WELLNESS_life_satisfaction) compared to those who report spending 'too little time' or 'too much time.\n",
    "\n",
    "If this is indeed the case, then we can promote volunteering and encourage people to help the people around them, which would benefit the volunteers, making them feel more fulfilled, as well as the community which they would help."
   ]
  },
  {
   "cell_type": "markdown",
   "id": "7e3d2f18-fef6-478d-ba13-8a0b0a5bf886",
   "metadata": {},
   "source": [
    "<h3 style=\"color:green;\">Social media disconnects us?!</h3>"
   ]
  },
  {
   "cell_type": "markdown",
   "id": "292bfdd0-6fdc-4171-b835-817f36d798c0",
   "metadata": {},
   "source": [
    "For this section, we can use rows 169 and 170: CONNECTION_social_media_visits_per_day and CONNECTION_social_media_time_per_day (Q54 and Q55) as well as row 66: CONNECTION_activities_chat_p3m\n",
    "Furthermore, we can look at the perception of the people vis-a-vis their social media usage balance with row 163 (LIFESTYLE_time_use_balance_media) and maybe compare to other lifestyle time use balances (rows 156-168).\n",
    "\n",
    "We can compare the social media usage with row 113: CONNECTION_time_with_others_satisfied, row 74: CONNECTION_activities_visited_friends_p3m\n",
    "\n",
    "So really here, the question I want to ask is:\n",
    "<br/>Does the time spent on social media every day (CONNECTION_social_media_time_per_day) relate to (CONNECTION_time_with_others_satisfied) and (CONNECTION_activities_visited_friends_p3m)?\n",
    "   \n",
    "\n",
    "To study this, we can use regression (I suspect a curved relationship, an inverted parabola, as stated below) and correlation.\n",
    "<br/>Some visualizations could be a scatterplot and trend line, or box plots, or bar charts to look at the mean CONNECTION_time_with_others_satisfied for different times spent on social media.\n",
    "<br/>To show causation, we would need to address some confounders such as age, the social media used, and many others, which may not be possible as the data does not seem paired with such information, making it complicated to form said groups.\n",
    "\n",
    "<h3>Hypothesis</h3>\n",
    "\n",
    "I think that excessive social media use does disconnect us, while a smaller amount of its use does actually help us connect with others and keep in touch.\n",
    "In other words, I think that social satisfaction may rise with social media usage until a certain point at which said satisfaction will decrease, maybe after a certain plateau period."
   ]
  },
  {
   "cell_type": "markdown",
   "id": "3a10b577-dc1c-4f67-8509-378ae0255198",
   "metadata": {},
   "source": []
  }
 ],
 "metadata": {
  "kernelspec": {
   "display_name": "Python 3 (ipykernel)",
   "language": "python",
   "name": "python3"
  },
  "language_info": {
   "codemirror_mode": {
    "name": "ipython",
    "version": 3
   },
   "file_extension": ".py",
   "mimetype": "text/x-python",
   "name": "python",
   "nbconvert_exporter": "python",
   "pygments_lexer": "ipython3",
   "version": "3.12.5"
  }
 },
 "nbformat": 4,
 "nbformat_minor": 5
}
