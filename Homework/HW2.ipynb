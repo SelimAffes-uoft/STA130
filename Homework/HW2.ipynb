{
 "cells": [
  {
   "cell_type": "markdown",
   "id": "de4666d6-da91-4752-900c-ba2861cd2c3b",
   "metadata": {},
   "source": [
    "<h1 style=\"color:red;\">Question I</h1>"
   ]
  },
  {
   "cell_type": "markdown",
   "id": "c9471730-4384-4128-836b-d66a54ac5afe",
   "metadata": {},
   "source": [
    "The chatgpt discussion is <a href=\"https://chatgpt.com/share/66ea2c8c-afd8-8002-88f1-dc8653d6c7c5\">this one</a>\n",
    "<p>summary:<br/>\n",
    "Certainly! Here’s a summary of our discussion about the Monty Hall simulation code:\n",
    "\n",
    "1. **Overview of the Monty Hall Problem**:\n",
    "   - It's a probability puzzle where a contestant chooses one of three doors, behind one of which is a prize. After the choice, one of the remaining doors with a goat is revealed, and the contestant can either stick with their original choice or switch.\n",
    "\n",
    "2. **Simulation Code Breakdown**:\n",
    "   - The code simulates the scenario where the contestant always switches doors after one goat door is revealed.\n",
    "   - Key steps in the loop:\n",
    "     - A random winning door is chosen.\n",
    "     - The winning door is removed from the list of options.\n",
    "     - The contestant's initial choice is attempted to be removed (if it's not the winning door).\n",
    "     - Monty reveals a goat door from the remaining options.\n",
    "     - The winning door is added back if the contestant's choice was not the winning door.\n",
    "     - The contestant switches to the only remaining door.\n",
    "\n",
    "3. **Winning Check**:\n",
    "   - After switching, the code checks if the contestant won by comparing their new choice to the winning door.\n",
    "\n",
    "4. **Results**:\n",
    "   - The simulation runs for 100,000 iterations, and the proportion of wins when switching is calculated, typically showing that switching wins about 66.67% of the time.\n",
    "\n",
    "5. **Complexities**:\n",
    "   - The use of `try-except` and list manipulation can be tricky, but it ensures that the simulation accurately reflects the rules of the Monty Hall game.\n",
    "\n",
    "Let me know if you need anything else or further clarification on any aspect!</p>"
   ]
  },
  {
   "cell_type": "markdown",
   "id": "9c3a5436-2761-46e2-930f-b9086e5e2fda",
   "metadata": {},
   "source": [
    "<h2>My interpretation of the question!!</h2>\n",
    "<p>\n",
    "    i_won tracks the number of times the player wins and reps is the number of repetitions of the for loop\n",
    "    <br/>\n",
    "    In the for loop: the code randomly chooses the winning door.<br/>\n",
    "    It creates a list out of the doors' tuple to be able to manipulate it.<br/>\n",
    "    The code removes the winning door and the chosen door if it isn't the winning door.<br/>\n",
    "    The only door(s) left in the list is a goat door (or 2). The code reveals that door is a goat door and removes it from the list<br/>\n",
    "    If we chose the winning door, the only door left in the list is a goat door, which we will then choose by changing<br/>\n",
    "    If we didn't choose the winning door, it gets added back to the list and we choose it by changing.\n",
    "    <br/>If the final choice is the winning door, we increment i_won by 1. We repeat the whole reps times\n",
    "    <br/>By dividing the number of wins by the number of tries, we get the proportion of wins (around .6667)\n",
    "</p>"
   ]
  },
  {
   "cell_type": "markdown",
   "id": "5176d3e2-3e2d-49d2-acb1-78621b9eb724",
   "metadata": {},
   "source": [
    "<h1 style=\"color:red;\">Question II</h1>"
   ]
  },
  {
   "cell_type": "code",
   "execution_count": 10,
   "id": "ac446ae1-8d92-48f4-a433-b7fe2a5e6f45",
   "metadata": {},
   "outputs": [
    {
     "name": "stdout",
     "output_type": "stream",
     "text": [
      "0.66883\n"
     ]
    }
   ],
   "source": [
    "import numpy as np\n",
    "\n",
    "all_door_options = [1, 2, 3]  # List of doors\n",
    "my_door_choice = 1  # Initial door choice (can be any of 1, 2, 3)\n",
    "reps = 100000  # Number of times the for loop will be repeated\n",
    "i_won = 0  # Counter for the number of wins\n",
    "\n",
    "for _ in range(reps):\n",
    "    #Here, the secret winning door is chosen randomly\n",
    "    secret_winning_door = np.random.choice(all_door_options)\n",
    "    \n",
    "    # Reveal one goat door which is not the door the player chose\n",
    "    goat_door_reveal = np.random.choice([door for door in all_door_options if door != my_door_choice and door != secret_winning_door])\n",
    "\n",
    "    # The choice is switched to the other remaining door\n",
    "    switched_choice = [door for door in all_door_options if door != my_door_choice and door != goat_door_reveal][0]\n",
    "\n",
    "    # Check if the change results in a win and increment i_won by one\n",
    "    if switched_choice == secret_winning_door:\n",
    "        i_won += 1\n",
    "\n",
    "# Calculate and print the win ratio\n",
    "win_ratio = i_won / reps\n",
    "print(win_ratio)"
   ]
  },
  {
   "cell_type": "markdown",
   "id": "e28e2e47-6635-4ba3-a37d-fe0cc8df6201",
   "metadata": {},
   "source": [
    "<p>\n",
    "    The above is streamlined code given by <a href=\"https://chatgpt.com/share/66ea3870-4914-8002-9398-c182106d4ffd\">chatgpt.</a>\n",
    "    It is a whole lot easier to understand because: First, there are no try except blocks, which I'm not very familiar with.<br/>\n",
    "    This code also does not manipulate the door list by removing and readding doors!!<br/>\n",
    "    Thus, it switches and reveals doors using a comprehensive list and boolean operators, which I actually find much more intuitive<br/>\n",
    "    The lower number of lines also makes it more readable!\n",
    "</p>"
   ]
  },
  {
   "cell_type": "markdown",
   "id": "4a048878-fab1-415b-b13b-1594bc38a1fe",
   "metadata": {},
   "source": [
    "<h1 style=\"color:red;\">Question III</h1>"
   ]
  },
  {
   "cell_type": "markdown",
   "id": "1dddc513-b1ca-4a59-9a01-5e0814affb8b",
   "metadata": {},
   "source": [
    "<p>\n",
    "    My preferred version of the code is the one given by chatgpt in question 2 as that is actually how I would have programmed the code if I had to do it myself. Although I would change the doors list to a tuple to avoid any unwanted changes/side effects (although they wouldn't happen in this case, it is still preferable to do so.<br/>\n",
    "    Below is my reworded and slightly modified version of the code:\n",
    "</p>"
   ]
  },
  {
   "cell_type": "code",
   "execution_count": null,
   "id": "24b98fc0-3f71-45d3-9a86-4a6fb153d8cd",
   "metadata": {},
   "outputs": [],
   "source": [
    "import numpy as np\n",
    "\n",
    "all_door_options = (1, 2, 3)  # List of doors\n",
    "my_door_choice = 1  # Initial door choice (can be any of 1, 2, 3)\n",
    "reps = 100000  # Number of repetitions for the simulation\n",
    "i_won = 0  # Counter for wins\n",
    "\n",
    "for _ in range(reps):\n",
    "    secret_winning_door = np.random.choice(all_door_options)\n",
    "    \n",
    "    # Reveal a goat door (not the player's choice and not the winning door) by using a list creation method using a for loop and booleans (list comprehension)\n",
    "    goat_door_reveal = np.random.choice([door for door in all_door_options if door != my_door_choice and door != secret_winning_door])\n",
    "\n",
    "    # Switch to the other remaining door (using list comprehension cuz gosh darnit I just love list comprehension, like really)\n",
    "    switched_choice = [door for door in all_door_options if door != my_door_choice and door != goat_door_reveal][0]\n",
    "\n",
    "    # Check if the switch results in a win\n",
    "    if switched_choice == secret_winning_door:\n",
    "        i_won += 1\n",
    "\n",
    "# Calculate and print win ratio\n",
    "win_ratio = i_won / reps\n",
    "print(win_ratio)"
   ]
  },
  {
   "cell_type": "markdown",
   "id": "36ffc809-06ca-4f31-a09d-82b9fbcfbfdb",
   "metadata": {},
   "source": [
    "<h1 style=\"color:red;\">Question IV</h1>"
   ]
  },
  {
   "cell_type": "code",
   "execution_count": 12,
   "id": "d017c490-4fb2-44b7-b716-50e94c88b74a",
   "metadata": {},
   "outputs": [
    {
     "data": {
      "image/jpeg": "[encoded data removed]",
      "text/html": [
       "\n",
       "        <iframe\n",
       "            width=\"550\"\n",
       "            height=\"300\"\n",
       "            src=\"https://www.youtube.com/embed/56mGTszb_iM\"\n",
       "            frameborder=\"0\"\n",
       "            allowfullscreen\n",
       "            \n",
       "        ></iframe>\n",
       "        "
      ],
      "text/plain": [
       "<IPython.lib.display.YouTubeVideo at 0x7fa0e4210b90>"
      ]
     },
     "execution_count": 12,
     "metadata": {},
     "output_type": "execute_result"
    }
   ],
   "source": [
    "# Markov Chains and Text Generation\n",
    "from IPython.display import YouTubeVideo\n",
    "YouTubeVideo('56mGTszb_iM', width = 550)"
   ]
  },
  {
   "cell_type": "markdown",
   "id": "817455ec-e09f-4966-840f-8d370aa2aae5",
   "metadata": {},
   "source": [
    "<p>\n",
    "    So the given program is going to go through a certain database of sentences, maybe in the context of a show, or magazine articles, or anything else, really. It is going to see every single word and, in a dictionary, log how many times each word follows another. For this, we create dictionaries inside of dictionaries and increment the counters by one each time we encounter a word combination. From there, we can deduce the chances of every word combination and throw them into a markovian chatbot program (which is not in this program though\n",
    "</p><br/>\n",
    "<p><a href=\"https://chatgpt.com/share/66ea5808-5654-8002-9835-5dfd4ccdf331\">This</a> is the answer ChatGPT gave me, which helped me a bit to arrive to this understanding of the code (but it was the lecture more than chat with which I understood</p>"
   ]
  },
  {
   "cell_type": "markdown",
   "id": "8bcc8811-e0db-46f6-ae92-33c47a18d72c",
   "metadata": {},
   "source": [
    "<h1 style=\"color:red;\">Question IV</h1>"
   ]
  },
  {
   "cell_type": "markdown",
   "id": "30310eeb-3f9e-41e7-8614-f026ca7233ca",
   "metadata": {},
   "source": [
    "<a href=\"https://chatgpt.com/share/66ea5808-5654-8002-9835-5dfd4ccdf331\">Chat link babyy this guy's the GOAT hhhhh</a>\n",
    "<br/><br/>\n",
    "<p>Chatty summary:<br/>\n",
    "Absolutely! Here’s a summary of our discussion:\n",
    "\n",
    "1. **Markovian Chatbot Basics**:\n",
    "   - You shared code for a Markovian chatbot focused on data collection using word frequencies and next-word prediction.\n",
    "\n",
    "2. **Improvements**:\n",
    "   - I guessed various potential extensions you might have made, such as handling n-grams, frequency thresholds, and incorporating POS tagging.\n",
    "\n",
    "3. **Bigrams**:\n",
    "   - You revealed that you implemented **bigrams**, which enhances context by considering pairs of words.\n",
    "\n",
    "4. **Character-based Dialogue Segmentation**:\n",
    "   - You mentioned collecting data from a show with multiple characters. I guessed you added **character-based dialogue segmentation**, allowing the bot to track and replicate each character's unique speaking style.\n",
    "\n",
    "5. **Game Win**:\n",
    "   - You confirmed my guess about the character-based segmentation feature, making it a fun and successful guessing game!\n",
    "\n",
    "If there's anything else you'd like to explore or clarify, just let me know!</p>"
   ]
  },
  {
   "cell_type": "markdown",
   "id": "70d90071-c22f-4d2b-99be-9142cc58648d",
   "metadata": {},
   "source": [
    "<h1 style=\"color:red;\">Question V</h1>"
   ]
  },
  {
   "cell_type": "markdown",
   "id": "1c6938af-e0dd-4f07-9397-4d0f1fc3dc9e",
   "metadata": {},
   "source": [
    "<p><a href=\"https://chatgpt.com/share/66ea613e-3348-8002-be88-0db218b26678\">This</a> is the session I've used for questions 1 and 2</p>"
   ]
  },
  {
   "cell_type": "markdown",
   "id": "ed6e3ab4-fe13-4070-be9f-8bccc816efd7",
   "metadata": {},
   "source": [
    "<p>And for the 3rd question <a href=\"https://chatgpt.com/share/66ea63a2-3890-8002-9e0e-031e501f9d02\">ChatGPT</a> got it for the first time!! Man it's smart</p>"
   ]
  },
  {
   "cell_type": "markdown",
   "id": "8217b316-c80a-4b1e-9f11-9c20f1f69a61",
   "metadata": {},
   "source": [
    "<h1 style=\"color:red;\">Question VI</h1>"
   ]
  },
  {
   "cell_type": "markdown",
   "id": "775451ed-56ff-4fee-9919-3a62ea092e05",
   "metadata": {},
   "source": [
    "<ol>\n",
    "    <li>\n",
    "        ChatGPT answered my questions really quick, only struggling a bit for the guessing game, but giving a lot of good guesses anyways!! he helped me understand the code used for the data collection and helped a bit to understand how Markovian algorithms work!!\n",
    "    </li>\n",
    "    <li>\n",
    "    It was nor frustrating nor helpful, it was actually helpful... and kinda fun, as I'd use slang in my questions and see how he reacts and adapts.\n",
    "    </li>\n",
    "    <li>\n",
    "    Chatbots are very useful to understand code and help in the debugging process. I'm actually surprised as I remember a GPT that would trip at the simplest problems a few years ago haha\n",
    "    </li>"
   ]
  },
  {
   "cell_type": "markdown",
   "id": "62979821-ab7f-4424-99d8-b396745875bb",
   "metadata": {},
   "source": [
    "<h1 style=\"color:red;\">Question VII</h1>"
   ]
  },
  {
   "cell_type": "markdown",
   "id": "4af4e1f6-5f05-470a-99d8-42db217f798d",
   "metadata": {},
   "source": [
    "<p>My perception on AI hasn't really changed much in the context of coding, statistics and data science, although I can see that it has improved a lot in the past few years, so I guess yeah, I do view it in a more positive light. More details about my opinion on AI are in the AI rant below for those interested!</p>"
   ]
  },
  {
   "cell_type": "markdown",
   "id": "0708b511-70e1-43f9-9ada-661a5d51cf7b",
   "metadata": {},
   "source": [
    "<h1 style=\"color:red;\">Question VIII</h1>"
   ]
  },
  {
   "cell_type": "markdown",
   "id": "eaa589ef-e9ae-48cb-b3ad-5e7e9840a1d0",
   "metadata": {},
   "source": [
    "<p><a href=\"https://chatgpt.com/share/66eb19e2-8248-8002-b4f2-2a5be5b37c81\">ChatGPT</a> is really helpful WOW. Here's what he gave me:</p>\n",
    "I'm really glad you found this helpful! Here's a quick summary of our discussion:\n",
    "\n",
    "### **Important and Valuable Skills** for **Computer Science (CS)** and **Data Science (DS)**:\n",
    "- **CS**: \n",
    "  - **Programming** in multiple languages (Python, C++, Java)\n",
    "  - **Algorithms & Data Structures**\n",
    "  - **Software Development Practices** (Git, unit testing)\n",
    "  - **Computer Architecture** & **Operating Systems**\n",
    "  - **Problem-Solving** (LeetCode, HackerRank)\n",
    "  - **Networking & Security**\n",
    "\n",
    "- **DS**:\n",
    "  - **Programming** (Python, R, SQL)\n",
    "  - **Statistics & Probability**\n",
    "  - **Machine Learning** and **Data Manipulation**\n",
    "  - **Data Visualization** (Matplotlib, Tableau)\n",
    "  - **Big Data Technologies** (Hadoop, Spark)\n",
    "  - **Communication** & **Domain Knowledge**\n",
    "\n",
    "### **Recommended Resources** for More Efficient Learning:\n",
    "1. **Online Platforms**: Coursera, edX, Udemy, Fast.ai, Khan Academy.\n",
    "2. **Coding Practice**: LeetCode, HackerRank, Kaggle, Codeforces.\n",
    "3. **GitHub**: Explore and contribute to open-source projects.\n",
    "4. **Books**: *Introduction to Algorithms* (CS), *Hands-On Machine Learning* (DS).\n",
    "5. **YouTube Channels**: Computerphile, 3Blue1Brown, StatQuest.\n",
    "6. **Hands-on Projects**: Build personal projects or solve Kaggle challenges.\n",
    "7. **Research**: Follow journals like *JMLR* and platforms like arXiv.\n",
    "8. **Certifications**: Google Data Engineer, AWS, TensorFlow Developer.\n",
    "9. **Communities**: Stack Overflow, Reddit (r/learnprogramming, r/datascience).\n",
    "\n",
    "### **Efficiency Tips**:\n",
    "- Combine theory with hands-on practice.\n",
    "- Use time management techniques like the Pomodoro Technique.\n",
    "- Focus on depth before broadening your scope.\n",
    "- Engage in peer learning and participate in coding competitions.\n",
    "\n",
    "This plan will give you the tools and knowledge to succeed in either **computer science** or **data science**!"
   ]
  },
  {
   "cell_type": "markdown",
   "id": "84f30ffb-df4d-4039-958e-95fbc2637318",
   "metadata": {},
   "source": [
    "<h3>4.</h3>\n",
    "<p>\n",
    "    Basically, Chat said I have to study programming, algorithms and data structures, computer architectures,OSes, networking and security (which I will through UofT courses if I am admitted to the CS stream), software development practices and my problem-solving skills through practice. I can also deepen my knowledge and parctice my problem-solving skills with online resources and hands-on projects (building a portfolio)\n",
    "</p>\n",
    "<p>\n",
    "    For Data Science, he recommends I deepen my knowledge of programming, Machine Learning, Data Visualization and Manipulation, learn about Big Data (this is all in the field of informatics) and of course deepen my knowledge of Data Science, statistics, probability...<br/>\n",
    "    I once again plan to do this with a mix of UofT courses and online resources!\n",
    "</p>\n",
    "<p>\n",
    "    I am still not sure exactly what I want to pursue after University, both of these fields interest me a lot, and economics too! So I'll try to develop some skills for all of these (econ a bit less maybe) and concentrate more on a certain domain when I finally decide myself!\n",
    "</p>"
   ]
  },
  {
   "cell_type": "markdown",
   "id": "3a865430-a1f4-4628-9641-2ed3a7abb638",
   "metadata": {},
   "source": [
    "<h3>5.</h3>\n",
    "<p>\n",
    "    Honestly the Chatbot is pretty useful because it takes a lot of\n",
    "</p>"
   ]
  },
  {
   "cell_type": "markdown",
   "id": "96b85e2e-8be4-41cf-a60f-354ee45a9af9",
   "metadata": {},
   "source": [
    "<h1 style=\"color:green;\">Rant about AI</h1>"
   ]
  },
  {
   "cell_type": "markdown",
   "id": "b5d689bd-bb52-4953-bfba-6d7630ac113a",
   "metadata": {},
   "source": [
    "<p>So before starting the course, I kind of looked down on generative AI. Not because I didn't think it was potent at all but more because of its use in the current day, with models like Dall-E and Sora being more and more prominent, menacing human creativity and art, making a lot of what we find on internet (especially facebook at the moment) AI generated slop, as they say. And I still hold this position! with children's books fully written and illustrated by AI being published and hitting the shelves, some as a social experiment (understandable) but some as a genuine attempt to make a good childrens' book (like wth man). This use of AI I find horrible, especially when you see Google's ad for Gemini at the Olympics!! Using AI to write a letter to your idol???!!! WHAT!!<br/><br/>\n",
    "Anyways, all of this to say... This all made me forget that AI is actually a precious tool, that can be used to help us learn, grow, understand our mistakes, to help us save time on multiple tasks such as debugging or summarizing a text or document. And this course made me realize that. It reminded me that generative AI can actually be used as a force for good, for education, coding and data science included!!</p>"
   ]
  },
  {
   "cell_type": "markdown",
   "id": "265bc3ad-7d19-4d8c-8dc7-f04d45016ee1",
   "metadata": {},
   "source": [
    "<ol>\n",
    "    <li>\n",
    "        So yeah\n",
    "    </li>\n",
    "</ol>"
   ]
  },
  {
   "cell_type": "code",
   "execution_count": null,
   "id": "8a9df290-ad8a-42ad-9b6d-66998672587f",
   "metadata": {},
   "outputs": [],
   "source": []
  }
 ],
 "metadata": {
  "kernelspec": {
   "display_name": "Python 3 (ipykernel)",
   "language": "python",
   "name": "python3"
  },
  "language_info": {
   "codemirror_mode": {
    "name": "ipython",
    "version": 3
   },
   "file_extension": ".py",
   "mimetype": "text/x-python",
   "name": "python",
   "nbconvert_exporter": "python",
   "pygments_lexer": "ipython3",
   "version": "3.12.5"
  }
 },
 "nbformat": 4,
 "nbformat_minor": 5
}
