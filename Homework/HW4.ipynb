{
 "cells": [
  {
   "cell_type": "markdown",
   "id": "c5c6d03c-cbdc-47d4-a813-6814b4a4520f",
   "metadata": {},
   "source": [
    "<h1 style=\"color:red;\">Question I</h1>"
   ]
  },
  {
   "cell_type": "markdown",
   "id": "99f19ce4-5eae-4f07-8db3-68a44b026c03",
   "metadata": {},
   "source": [
    "<p>\n",
    "    The standard deviation of the original data is a measure giving us how spread out the dataset's values are from the mean. It allows us to define intervals with a certain percentage of the dataset's values included in it (68% within 1 s.d. and 95% at a distance of 2 s.d.s).\n",
    "</p>\n",
    "<p>\n",
    "    The standard error of the mean, on the other hand, is the standard deviation of the distribution of the sample means, which we got during the bootstrapping process.\n",
    "</p>\n",
    "<p>\n",
    "    So in short, the difference between the two is that the standard deviation of the original data tells us about the spread of values in the original dataset (so it shows how much variation there is in the dataset itself), while the standard error of the mean conveys information about how much the sample's mean is expected to vary from the population's mean.\n",
    "</p>"
   ]
  },
  {
   "cell_type": "markdown",
   "id": "4a403f0c-0a24-484e-9f19-63c65f7e4dee",
   "metadata": {},
   "source": [
    "<h1 style=\"color:red;\">Question II</h1>"
   ]
  },
  {
   "cell_type": "markdown",
   "id": "86a95000-63b5-4deb-b309-58cc6cd85da9",
   "metadata": {},
   "source": [
    "<script id=\"MathJax-script\" async src=\"https://cdn.jsdelivr.net/npm/mathjax@3/es5/tex-mml-chtml.js\"></script>\n",
    "\n",
    "<p>\n",
    "    To calculate the 95% confidence interval, first, we have to calculate the sample mean, and the standard error of the mean SEM, which is calculated by<br/> \\( \\text{SEM} = \\frac{s}{ \\sqrt{n}}\\) where \\(s\\) is the standard deviation of our sample and \\(n\\) is the size of said sample.\n",
    "    <br/><br/>With that, we can then calculate the confidence interval with the formula: <br>\n",
    "    \\( \\bar{x} \\pm(1.96 \\cdot \\text{SEM})\\)\n",
    " <br>So the confidence interval will be delimited by the two values given by said formula.\n",
    "</p>"
   ]
  },
  {
   "cell_type": "markdown",
   "id": "eea59fc2-7a49-49dd-a2c6-dbd34397171a",
   "metadata": {},
   "source": [
    "<h1 style=\"color:red;\">Question III</h1>"
   ]
  },
  {
   "cell_type": "markdown",
   "id": "f5c418ce-91d4-48e4-9cf0-347e9988bd05",
   "metadata": {},
   "source": [
    "<p>\n",
    "    The 95% confidence interval is simply a range covering 95% of the bootstrapped sample means. The histogram of bootstrapped sample means tends to be normal, in which case the best way to find 95% of the data in the smallest interval is in the middle of the dataset.\n",
    "    <br/>Thus, we will be going from the 2.5th percentile to the 97.5th percentile to find the 95% we are looking for.\n",
    "    <br/> We can get a list containing both limits of the interval using the following code:\n",
    "</p>"
   ]
  },
  {
   "cell_type": "code",
   "execution_count": 5,
   "id": "90608e84-e513-4509-8e61-148248a4b5fb",
   "metadata": {},
   "outputs": [],
   "source": [
    "import numpy as np\n",
    "def confidence_95(sample_mean_list):\n",
    "    interval = [np.quantile(sample_mean_list, 0.025),\n",
    "                np.quantile(sample_mean_list, 0.975)]\n",
    "    return interval"
   ]
  },
  {
   "cell_type": "markdown",
   "id": "1b8d7fb4-dd95-454a-85c1-2d592f6c8257",
   "metadata": {},
   "source": [
    "<head>\n",
    "<script id=\"MathJax-script\" async src=\"https://cdn.jsdelivr.net/npm/mathjax@3/es5/tex-mml-chtml.js\"></script>\n",
    "</head>\n",
    "<body>\n",
    "Chatbot discussion summary for the above question:\n",
    "Sure! Here's a summary of our discussion:\n",
    "<ol>\n",
    "<li>\n",
    "    <h3>Standard Error and Confidence Intervals:</h3>\n",
    "    <ul>\n",
    "        <li>\n",
    "        To create a 95% confidence interval using the standard error of the mean (SEM), you calculate it as \\(\\text{SEM} = \\frac{s}{\\sqrt{n}}\\), where \\(s\\) is the sample standard deviation and \\(n\\) is the sample size. The confidence interval is then given by \\(\\bar{x} \\pm (1.96 \\times \\text{SEM})\\).\n",
    "        </li>\n",
    "        <li>\n",
    "            The SEM is based on the sample's variability and measures how much the sample mean is expected to vary.\n",
    "        </li>\n",
    "    </ul>\n",
    "</li>\n",
    "<br/>\n",
    "    \n",
    "<li>\n",
    "<h3>Histogram of Bootstrapped Sample Means:</h3>\n",
    "    <ul><li>\n",
    "   The histogram of bootstrapped sample means tends to approximate a normal distribution due to the Central Limit Theorem, particularly for large sample sizes. However, this might not be the case if the sample size is small or the original data is highly skewed.\n",
    "    </ul></li>\n",
    "</li>\n",
    "\n",
    "<br/>\n",
    "<li>\n",
    "<h3>Bootstrapped Confidence Intervals:</h3>\n",
    "    <ul>\n",
    "   <li>You can create a 95% confidence interval using bootstrapped sample means without relying on the standard error. Instead, take the interval from the 2.5th percentile to the 97.5th percentile of the bootstrapped sample means. This range covers approximately 95% of the bootstrapped values.</li>\n",
    "   <li>We provided Python code to compute this interval using `numpy`.</li>\n",
    "    </ul>\n",
    "\n",
    "</li>\n",
    "</ol>\n",
    "<br/>\n",
    "These points clarify how confidence intervals can be constructed from both SEM and bootstrapped data, showing different approaches to measure the variability and reliability of sample statistics.\n",
    "\n",
    "</body>"
   ]
  },
  {
   "cell_type": "markdown",
   "id": "59f816cf-8466-4ec7-943e-9a7d5653d62a",
   "metadata": {},
   "source": [
    "<h1 style=\"color:red;\">Question IV</h1>"
   ]
  },
  {
   "cell_type": "code",
   "execution_count": 1,
   "id": "b3abe6cd-cdee-4d3b-9c9d-9bf570e5e1ac",
   "metadata": {},
   "outputs": [],
   "source": [
    "import numpy as np\n",
    "\n",
    "# Your data\n",
    "def median_confidence95(data):\n",
    "    data = np.array([data])\n",
    "    \n",
    "    # Number of bootstrap samples\n",
    "    n_bootstrap = 10000\n",
    "    medians = []\n",
    "    \n",
    "    # Bootstrapping process\n",
    "    for i in range(n_bootstrap):\n",
    "        resample = np.random.choice(data, size=len(data), replace=True)\n",
    "        medians.append(np.median(resample))\n",
    "    \n",
    "    # Calculating the 95% confidence interval\n",
    "    lower_bound = np.percentile(medians, 2.5)\n",
    "    upper_bound = np.percentile(medians, 97.5)\n",
    "    interval = [lower_bound, upper_bound]\n",
    "    print(f\"95% Confidence Interval for the median: ({lower_bound}, {upper_bound})\")\n",
    "    return interval"
   ]
  },
  {
   "cell_type": "markdown",
   "id": "19176c7a-9b4b-4d9a-91a1-6bf05a008467",
   "metadata": {},
   "source": [
    "<p>\n",
    "    Here is a summary of my discussion with <a href=\"https://chatgpt.com/share/66fc87f8-c570-8002-a463-18e655840b91\">ChatGPT</a>:\n",
    "</p>\n",
    "\n",
    "To create a bootstrapped 95% confidence interval for a median, you can follow these steps:\n",
    "\n",
    "1. **Resample your data**: Take random samples from your dataset with replacement, matching the original size.\n",
    "2. **Calculate the median**: Compute the median for each bootstrap sample.\n",
    "3. **Repeat**: Perform the resampling and median calculation many times (e.g., 1,000 or 10,000 times).\n",
    "4. **Construct the confidence interval**: Sort the medians from the bootstrap samples and take the 2.5th and 97.5th percentiles as the lower and upper bounds of the confidence interval.\n",
    "\n",
    "A Python code example was provided to illustrate the process."
   ]
  },
  {
   "cell_type": "markdown",
   "id": "ec9161df-d0d8-45ec-8e1e-9091a8329b79",
   "metadata": {},
   "source": [
    "<h1 style=\"color:red;\">Question V</h1>"
   ]
  },
  {
   "cell_type": "markdown",
   "id": "32312d31-6cb0-4e12-a6d8-6426458f649a",
   "metadata": {},
   "source": [
    "The population parameter is a fixed value describing the whole population.\n",
    "Meanwhile, the sample statistic is an estimation of said parameter based on a limited sample of the total population, which can be different based on the chosen sample."
   ]
  },
  {
   "cell_type": "markdown",
   "id": "8ba29192-bf02-4165-9fbf-dce1325dcdef",
   "metadata": {},
   "source": [
    "<h1 style=\"color:red;\">Question VI</h1>"
   ]
  },
  {
   "cell_type": "markdown",
   "id": "06b5ea8b-efea-45a3-bdeb-4b168b23bdde",
   "metadata": {},
   "source": [
    "<ol>\n",
    "    <li>\n",
    "        Okay so imagine you want to study something to find a certain trend. The best way to do this would be to make LOTS of tests on many people to have the closest thing possible to how it would fare if we'd tested it on the whole population, on everybody. However, there's a problem with that: it would be way too expensive! So what we do is we use a process called bootstrapping. We take a certain part of the population, called a sample, and test them. Let's say we tested 100 people. Then, we are going to randomly pick the results given by 1 person 100 times, by making it possible to take the same result more than once. By doing this, we get a new dataset. Then we do this over and over and over again and we compare the statistics of every new dataset we have to approximate what that value would be if we'd studied the whole population.\n",
    "        <br/>That's what bootstrapping is!!\n",
    "    </li>\n",
    "    <li>\n",
    "        So as I said, bootstrapping is used when you only tested a small group and want to see what the data would look like if you tested all of the population by creating lots of \"new\" datasets.\n",
    "        <br/>By seeing how much some results change between these \"new\" datasets, you can estimate how much a statistic would vary in the population compared to the sample. With this, we can calculate confidence intervals to estimate the true trends and values in the population\n",
    "    </li>\n",
    "    <li>\n",
    "        So you know how I said you could see how much a statistic varies between the bootstrapped datasets to estimate an interval in which that statistic is? Well you can do that with averages. You look at all the averages in the \"new\" bootstrapped datasets and you see how much they vary. With this, you can calculate something called the \"95% confidence interval.\" It is a range that contains 95% of the averages (for example) of the datasets, and it give us this interval. And we say that we are 95% confident that it contains the real average. So by seeing if our guess is in that interval, we can assume whether or not it's plausible.\n",
    "    </li>\n",
    "</ol>"
   ]
  },
  {
   "cell_type": "markdown",
   "id": "017a7f52-c6d4-45fa-a29b-0a02a5d15718",
   "metadata": {},
   "source": [
    "<h1 style=\"color:red;\">Question VII</h1>"
   ]
  },
  {
   "cell_type": "markdown",
   "id": "d022902a-dd90-47e8-8b23-16b9d373abe9",
   "metadata": {},
   "source": [
    "<p>\n",
    "    This goes back to the definition of the confidence interval and the reason we use bootstrapping. From our sample, we want to try to estimate what a population parameter is using data from our sample. And the 95% confidence interval is an interval within which we are 95% confident the parameter lies.\n",
    "    <br/>Thus, if the 95% confidence interval overlaps with zero, we cannot rule out the possibility of the average being zero (meaning the drug has no effect on average). After all, we are 95% confident that the average being zero is a possibility! Since the average being zero is plausible, we can't reject the null hypothesis.\n",
    "</p>"
   ]
  },
  {
   "cell_type": "markdown",
   "id": "dfa84eed-0bd4-472b-a615-10fc3c303a53",
   "metadata": {},
   "source": [
    "<h1 style=\"color:red;\">Question VIII</h1>"
   ]
  },
  {
   "cell_type": "markdown",
   "id": "3e982f45-10ad-4cde-9354-e796206981af",
   "metadata": {},
   "source": [
    "<h3>Introduction:</h3>\n",
    "<p>\n",
    "    The company AliTech has created a new vaccine and we want to see wheter it is effective or not using the data given to us. In the given sample, released by AliTech, the most interesting data points for us are the InitialHealthScore and FinalHealthScore columns.\n",
    "    <br/>To see the difference in health before and after the vaccine, we can use the difference FinalHealthScore - InitialHealthScore. So we will calculate this difference for every patient, giving us the evolution of their health before/after the vaccine.\n",
    "    <br/>In this case, the Null Hypothesis of \"no effect\" would be if the vaccine has no effect on average. on the patients' health, i.e. if the mean difference in health before and after the vaccine is equal to 0.\n",
    "</p>"
   ]
  },
  {
   "cell_type": "markdown",
   "id": "e38ea62f-922e-43e1-ab80-a2badf28a9b0",
   "metadata": {},
   "source": [
    "<h3>Quantitative Analysis:</h3>"
   ]
  },
  {
   "cell_type": "code",
   "execution_count": 53,
   "id": "729d1f3d-5e64-481f-b545-c7e9bedef099",
   "metadata": {},
   "outputs": [
    {
     "data": {
      "image/png": "[encoded data removed]"
     },
     "metadata": {},
     "output_type": "display_data"
    },
    {
     "name": "stdout",
     "output_type": "stream",
     "text": [
      "The 95% confidence interval is between 0.9 and 5.6\n"
     ]
    }
   ],
   "source": [
    "# We import the pandas and numpy modules\n",
    "import pandas as pd\n",
    "import numpy as np\n",
    "import plotly.express as px\n",
    "\n",
    "# We define a numpy seed to reproduce the same results\n",
    "np.random.seed(157)\n",
    "\n",
    "file_path = \"./HW4.csv\"  # Insert the csv file here\n",
    "\n",
    "#We read the csv file and make a dataframe out of it\n",
    "file = pd.read_csv(file_path)\n",
    "\n",
    "# n is the number of rows, the original sample size\n",
    "n = file.shape[0]\n",
    "\n",
    "health_array = np.zeros(n)\n",
    "for i in range(n):\n",
    "    initial_health = file[\"InitialHealthScore\"].iloc[i]\n",
    "    final_health = file[\"FinalHealthScore\"].iloc[i]\n",
    "    health_array[i] =  final_health - initial_health\n",
    "\n",
    "# This is the number of bootstraps we'll do\n",
    "bootstrap_samples = 10000\n",
    "\n",
    "# We make an array of size bootstrap_samples filled with zeros\n",
    "xbar_bootstrapped = np.zeros(bootstrap_samples)\n",
    "\n",
    "\n",
    "#We will make bootstrap samples\n",
    "for i in range(bootstrap_samples):\n",
    "    #We create a bootstrapped sample\n",
    "    simulated_sample = file.sample(n=n, replace=True)\n",
    "\n",
    "    # We create an array containing \n",
    "    # the difference FinalHealth - InitialHealth\n",
    "    health_array = np.zeros(n)\n",
    "    for j in range(n):\n",
    "        initial_health = simulated_sample[\"InitialHealthScore\"].iloc[j]\n",
    "        final_health = simulated_sample[\"FinalHealthScore\"].iloc[j]\n",
    "        health_array[j] =  final_health - initial_health\n",
    "        \n",
    "    # We calculate the bootstrapped sample's mean\n",
    "    # and add it to x_bootstrapped\n",
    "    xbar_bootstrapped[i] = health_array.mean()\n",
    "\n",
    "# We convert the array into a dataframe\n",
    "xbar_bootstrapped = pd.DataFrame(xbar_bootstrapped)\n",
    "\n",
    "# We will now find the 95% confidence interval:\n",
    "lower_bound = np.percentile(xbar_bootstrapped, 2.5)\n",
    "upper_bound = np.percentile(xbar_bootstrapped, 97.5)\n",
    "interval = [lower_bound, upper_bound]\n",
    "\n",
    "# We make the histogram\n",
    "fig = px.histogram(xbar_bootstrapped, nbins = 20)\n",
    "# We graphically add the 95% confidence interval to the figure\n",
    "fig.add_vrect(lower_bound, upper_bound,\n",
    "              line_width = 0, fillcolor = \"red\", opacity = 0.2)\n",
    "fig.show(renderer = 'png')\n",
    "print(f\"The 95% confidence interval is between \\\n",
    "{lower_bound} and {upper_bound}\")\n"
   ]
  },
  {
   "cell_type": "markdown",
   "id": "11efea14-dbca-40a2-a9bb-2a40432ff565",
   "metadata": {},
   "source": [
    "<h3>Findings and discussions</h3>\n",
    "<p>\n",
    "    As we can see fromm the results of the above code, the 95% confidence interval of the sample's mean of differences in health does not cover 0, it is actually positive (0.9 to 5.6 with the seed I've set.\n",
    "    <br/><br/>We are 95% confident that the mean of differences in health of the whole population does not contain 0 and is in fact positive.\n",
    "    <br/>We can conclude by saying that we can overrule the null hypothesis of \"no effect\" by saying that the vaccine is in fact effective.\n",
    "</p>\n",
    "<p>\n",
    "    Now since the sample size we have used is quite small (10 patients), it is still possible that the sample is not representative of the overall population, due to maybe starting a healthier lifestyle right after the vaccine or another similar reason.\n",
    "</p>"
   ]
  }
 ],
 "metadata": {
  "kernelspec": {
   "display_name": "Python 3 (ipykernel)",
   "language": "python",
   "name": "python3"
  },
  "language_info": {
   "codemirror_mode": {
    "name": "ipython",
    "version": 3
   },
   "file_extension": ".py",
   "mimetype": "text/x-python",
   "name": "python",
   "nbconvert_exporter": "python",
   "pygments_lexer": "ipython3",
   "version": "3.12.5"
  }
 },
 "nbformat": 4,
 "nbformat_minor": 5
}
